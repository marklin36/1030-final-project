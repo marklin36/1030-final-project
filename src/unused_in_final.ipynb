{
 "cells": [
  {
   "cell_type": "code",
   "execution_count": 1,
   "metadata": {},
   "outputs": [
    {
     "ename": "NameError",
     "evalue": "name 'X' is not defined",
     "output_type": "error",
     "traceback": [
      "\u001b[0;31m---------------------------------------------------------------------------\u001b[0m",
      "\u001b[0;31mNameError\u001b[0m                                 Traceback (most recent call last)",
      "\u001b[0;32m<ipython-input-1-4de4ce8fb568>\u001b[0m in \u001b[0;36m<module>\u001b[0;34m\u001b[0m\n\u001b[1;32m     14\u001b[0m     \u001b[0mprint\u001b[0m\u001b[0;34m(\u001b[0m\u001b[0;34m\"done\"\u001b[0m\u001b[0;34m)\u001b[0m\u001b[0;34m\u001b[0m\u001b[0;34m\u001b[0m\u001b[0m\n\u001b[1;32m     15\u001b[0m \u001b[0;34m\u001b[0m\u001b[0m\n\u001b[0;32m---> 16\u001b[0;31m \u001b[0mmy_xgboost\u001b[0m\u001b[0;34m(\u001b[0m\u001b[0mX\u001b[0m\u001b[0;34m,\u001b[0m \u001b[0my\u001b[0m\u001b[0;34m)\u001b[0m\u001b[0;34m\u001b[0m\u001b[0;34m\u001b[0m\u001b[0m\n\u001b[0m",
      "\u001b[0;31mNameError\u001b[0m: name 'X' is not defined"
     ]
    }
   ],
   "source": [
    "# XGBoost\n",
    "from sklearn.model_selection import ParameterGrid\n",
    "from xgboost import XGBClassifier\n",
    "\n",
    "def my_xgboost(X, y):\n",
    "    param_grid = {\n",
    "        \"xgbclassifier__reg_alpha\": [0, 0.1],\n",
    "        \"xgbclassifier__reg_lambda\": [0, 0.1],\n",
    "        \"xgbclassifier__max_depth\": [10],\n",
    "    }\n",
    "    model = XGBClassifier(learning_rate=0.03, n_estimators=300, seed=0, colsample_bytree=0.9, subsample=0.66)\n",
    "    print(\"xgboost\")\n",
    "    ML_pipeline_kfold_GridSearchCV(X, y, 3, 5, param_grid, model)\n",
    "    print(\"done\")\n",
    "\n",
    "my_xgboost(X, y)"
   ]
  },
  {
   "cell_type": "code",
   "execution_count": null,
   "metadata": {},
   "outputs": [],
   "source": [
    "from sklearn.ensemble import VotingClassifier\n",
    "from sklearn.ensemble import RandomForestClassifier\n",
    "from sklearn.neighbors import KNeighborsClassifier\n",
    "from sklearn.svm import SVC\n",
    "from sklearn.naive_bayes import GaussianNB\n",
    "\n",
    "model_rf = RandomForestClassifier(random_state=1, max_depth=11, n_estimators = 300)\n",
    "model_knn = KNeighborsClassifier(n_neighbors = 28, weights='distance')\n",
    "\n",
    "X_other, X_test, y_other, y_test = train_test_split(X, y, test_size=0.2, random_state = 2, stratify=y)\n",
    "model = VotingClassifier(estimators=[ ('rf', model_rf), ('knn', model_knn)], voting='soft')\n",
    "# model = model.fit(X_other, y_other)\n",
    "# model.score(X_test, y_test)\n",
    "ML_pipeline_kfold_GridSearchCV(X, y, 3, 5, {}, model)\n"
   ]
  }
 ],
 "metadata": {
  "kernelspec": {
   "display_name": "Python 3",
   "language": "python",
   "name": "python3"
  },
  "language_info": {
   "codemirror_mode": {
    "name": "ipython",
    "version": 3
   },
   "file_extension": ".py",
   "mimetype": "text/x-python",
   "name": "python",
   "nbconvert_exporter": "python",
   "pygments_lexer": "ipython3",
   "version": "3.7.3"
  }
 },
 "nbformat": 4,
 "nbformat_minor": 4
}
