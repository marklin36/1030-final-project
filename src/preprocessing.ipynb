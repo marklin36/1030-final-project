{
 "cells": [
  {
   "cell_type": "code",
   "execution_count": 28,
   "metadata": {},
   "outputs": [],
   "source": [
    "import pandas as pd\n",
    "\n",
    "from sklearn.compose import ColumnTransformer\n",
    "from sklearn.pipeline import Pipeline\n",
    "from sklearn.preprocessing import MinMaxScaler\n",
    "from sklearn.preprocessing import StandardScaler\n",
    "\n",
    "import numpy as np\n",
    "\n",
    "df = pd.read_csv('../data/winequality-white.csv', sep=\";\") \n",
    "columns =  df.columns.tolist()\n",
    "columns.pop()\n",
    "\n",
    "preprocessor = ColumnTransformer(\n",
    "    transformers=[('min-max-scaling', StandardScaler(), columns)],\n",
    "    remainder='passthrough'\n",
    ")\n",
    "preprocessed_data = preprocessor.fit_transform(df)\n",
    "\n",
    "new_df = pd.DataFrame(preprocessed_data, columns = df.columns.tolist())\n",
    "\n",
    "# the preprocessed classes could be 'less than 5', '5', '6', '7', 'larger than 7'. \n",
    "def label_map(label):\n",
    "    label = int(label)\n",
    "    if label < 5:\n",
    "        return 1\n",
    "    elif label == 5:\n",
    "        return 2\n",
    "    elif label == 6:\n",
    "        return 3\n",
    "    elif label == 7:\n",
    "        return 4\n",
    "    elif label > 7:\n",
    "        return 5\n",
    "\n",
    "new_labels = [label_map(label) for label in df['quality'].values]\n",
    "new_df['quality'] = new_labels\n",
    "\n",
    "new_df.to_csv('../data/preprocessed.csv', index=False)"
   ]
  },
  {
   "cell_type": "code",
   "execution_count": 25,
   "metadata": {},
   "outputs": [
    {
     "data": {
      "image/png": "[encoded data removed]",
      "text/plain": [
       "<Figure size 432x288 with 1 Axes>"
      ]
     },
     "metadata": {
      "needs_background": "light"
     },
     "output_type": "display_data"
    }
   ],
   "source": [
    "from matplotlib import pylab as plt\n",
    "pd.value_counts(df['quality'],normalize=True).sort_index().plot.bar()\n",
    "plt.ylabel('proportion of points')\n",
    "plt.xlabel('quality')\n",
    "plt.title('Before preprocessing')\n",
    "plt.xticks(rotation=0, ha='right')\n",
    "plt.savefig('../figures/imbalanced_dataset.png',dpi=300)\n",
    "plt.show()"
   ]
  },
  {
   "cell_type": "code",
   "execution_count": null,
   "metadata": {},
   "outputs": [],
   "source": []
  }
 ],
 "metadata": {
  "kernelspec": {
   "display_name": "Python 3",
   "language": "python",
   "name": "python3"
  },
  "language_info": {
   "codemirror_mode": {
    "name": "ipython",
    "version": 3
   },
   "file_extension": ".py",
   "mimetype": "text/x-python",
   "name": "python",
   "nbconvert_exporter": "python",
   "pygments_lexer": "ipython3",
   "version": "3.7.3"
  }
 },
 "nbformat": 4,
 "nbformat_minor": 4
}
