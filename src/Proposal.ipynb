{
 "cells": [
  {
   "cell_type": "markdown",
   "metadata": {},
   "source": [
    "# Project description\n",
    "\n",
    "As my final project I will atempt to create a model that predicts white wine quality based on its chemical properties. Hence, **the target variable is wine quality**.\n",
    "\n",
    "The problem can be viewed as both regression or classification depending whether we view the wine quality as a continuous or discrete feature. We will approach the problem as a **classification** task because usually people use a discrete scale to describe how much they like something.  \n",
    "\n",
    "The problem is interesting because it attempts to investigate the **objective characteristics** of wine that people enjoy. If it turns out that perceived wine quality can be predicted from its chemical properties, the results might be impactful for wine producers (who will gain some insight how to produce better wines) and also for consumers (wishing to maximize their wine satisfaction). On the other hand, if it is the case that people's wine preference are independent from it's chemical properties then it would be an interesting result from a psychological perspective."
   ]
  },
  {
   "cell_type": "markdown",
   "metadata": {},
   "source": [
    "# Data set\n",
    "\n",
    "The dataset used in this proeject comes from the [UCL Machine Learning Repository](https://archive.ics.uci.edu/ml/datasets/wine+quality). It contains **4898 data points** and **12 features** and it is rather well documented, please see the winequaility.names file for the original data set descrption. All features are numerical but they lack units of measurment. From the ranges of these feature we can infer the following units:\n",
    "\n",
    "| Feature                | Units                | \n",
    "| ---------------------- |:--------------------:| \n",
    "| fixed acidity          | standard [ph](https://en.wikipedia.org/wiki/PH#Classification_of_soil_pH_ranges) unit  \n",
    "| volatile acidity       | g/L\n",
    "| citric acid            | g/L   \n",
    "| residual sugar         | g/L       \n",
    "| chlorides              | g/L    \n",
    "| free sulfur dioxide    | ppm                \n",
    "| total sulfur dioxide   | ppm          \n",
    "| density                | g/L                                           \n",
    "| sulphates              | g/L                     \n",
    "| pH                     | standard [ph](https://en.wikipedia.org/wiki/PH#Classification_of_soil_pH_ranges) unit                     \n",
    "| alcohol                | % by volume                    \n",
    "| quality                | 1-12 scale, 12 is the best                    \n",
    "\n",
    "This dataset has been used in multiple public studies including the following three:\n",
    "\n",
    "* [*Modeling wine preferences by data mining from physicochemical properties*](https://www.sciencedirect.com/science/article/pii/S0167923609001377) - Academic study that used regression and support vector machine algorithms to predict the wine quality from the given features. The authors reported that the use of SVM outperformed regression and neural networks.\n",
    "* [*Project Report:-Red Wine Quality Analysis Final*](https://rpubs.com/ayan_7926/projectreport) - This study uses analogical data set for red wine with the same features and comparable sample size. The author's explonatory data analysis employs regression on some engineered features.\n",
    "* [*Exploratory Data Analysis on Red Wine Quality*](https://rpubs.com/jiayiliao/redwine) - This study is also uses the red wine data set from the example above. The author's data analysis focuses on use of stastistical techniques, and it does not use regression or SVMs in order to predict the wine quality.\n"
   ]
  },
  {
   "cell_type": "markdown",
   "metadata": {},
   "source": [
    "# Preprocessing\n",
    "\n",
    "Since data is already in tidy format, it has only numerical features and no missing values we only need to apply a suitable scalling to each feature. Since all features have rather small and predictable range, we can apply min-max scaler to all of them."
   ]
  },
  {
   "cell_type": "code",
   "execution_count": 2,
   "metadata": {},
   "outputs": [
    {
     "name": "stdout",
     "output_type": "stream",
     "text": [
      "      fixed acidity  volatile acidity  citric acid  residual sugar  chlorides  \\\n",
      "0               7.0              0.27         0.36            20.7      0.045   \n",
      "1               6.3              0.30         0.34             1.6      0.049   \n",
      "2               8.1              0.28         0.40             6.9      0.050   \n",
      "3               7.2              0.23         0.32             8.5      0.058   \n",
      "4               7.2              0.23         0.32             8.5      0.058   \n",
      "...             ...               ...          ...             ...        ...   \n",
      "4893            6.2              0.21         0.29             1.6      0.039   \n",
      "4894            6.6              0.32         0.36             8.0      0.047   \n",
      "4895            6.5              0.24         0.19             1.2      0.041   \n",
      "4896            5.5              0.29         0.30             1.1      0.022   \n",
      "4897            6.0              0.21         0.38             0.8      0.020   \n",
      "\n",
      "      free sulfur dioxide  total sulfur dioxide  density    pH  sulphates  \\\n",
      "0                    45.0                 170.0  1.00100  3.00       0.45   \n",
      "1                    14.0                 132.0  0.99400  3.30       0.49   \n",
      "2                    30.0                  97.0  0.99510  3.26       0.44   \n",
      "3                    47.0                 186.0  0.99560  3.19       0.40   \n",
      "4                    47.0                 186.0  0.99560  3.19       0.40   \n",
      "...                   ...                   ...      ...   ...        ...   \n",
      "4893                 24.0                  92.0  0.99114  3.27       0.50   \n",
      "4894                 57.0                 168.0  0.99490  3.15       0.46   \n",
      "4895                 30.0                 111.0  0.99254  2.99       0.46   \n",
      "4896                 20.0                 110.0  0.98869  3.34       0.38   \n",
      "4897                 22.0                  98.0  0.98941  3.26       0.32   \n",
      "\n",
      "      alcohol  quality  \n",
      "0         8.8        6  \n",
      "1         9.5        6  \n",
      "2        10.1        6  \n",
      "3         9.9        6  \n",
      "4         9.9        6  \n",
      "...       ...      ...  \n",
      "4893     11.2        6  \n",
      "4894      9.6        5  \n",
      "4895      9.4        6  \n",
      "4896     12.8        7  \n",
      "4897     11.8        6  \n",
      "\n",
      "[4898 rows x 12 columns]\n"
     ]
    }
   ],
   "source": [
    "import pandas as pd\n",
    "\n",
    "from sklearn.compose import ColumnTransformer\n",
    "from sklearn.pipeline import Pipeline\n",
    "from sklearn.preprocessing import MinMaxScaler\n",
    "\n",
    "import numpy as np\n",
    "\n",
    "df = pd.read_csv('../data/winequality-white.csv', sep=\";\") \n",
    "columns =  df.columns.tolist()\n",
    "columns.pop()\n",
    "\n",
    "\n",
    "preprocessor = ColumnTransformer(\n",
    "    transformers=[('min-max-scaling', MinMaxScaler(), columns)],\n",
    "    remainder='passthrough'\n",
    ")\n",
    "preprocessed_data = preprocessor.fit_transform(df)\n",
    "\n",
    "new_df = pd.DataFrame(preprocessed_data, columns = df.columns.tolist())\n",
    "\n",
    "new_df.to_csv('../data/preprocessed')"
   ]
  },
  {
   "cell_type": "markdown",
   "metadata": {},
   "source": [
    "So in the preprocessed we have 12 features, including the target feature."
   ]
  }
 ],
 "metadata": {
  "kernelspec": {
   "display_name": "Python 3",
   "language": "python",
   "name": "python3"
  },
  "language_info": {
   "codemirror_mode": {
    "name": "ipython",
    "version": 3
   },
   "file_extension": ".py",
   "mimetype": "text/x-python",
   "name": "python",
   "nbconvert_exporter": "python",
   "pygments_lexer": "ipython3",
   "version": "3.7.3"
  }
 },
 "nbformat": 4,
 "nbformat_minor": 4
}
