{
 "cells": [
  {
   "cell_type": "code",
   "execution_count": 3,
   "metadata": {},
   "outputs": [],
   "source": [
    "import pandas as pd\n",
    "\n",
    "from sklearn.compose import ColumnTransformer\n",
    "from sklearn.pipeline import Pipeline\n",
    "from sklearn.preprocessing import MinMaxScaler\n",
    "from sklearn.preprocessing import StandardScaler\n",
    "\n",
    "import numpy as np\n",
    "\n",
    "df = pd.read_csv('../data/winequality-white.csv', sep=\";\") \n",
    "columns =  df.columns.tolist()\n",
    "columns.pop()\n",
    "\n",
    "preprocessor = ColumnTransformer(\n",
    "    transformers=[('min-max-scaling', StandardScaler(), columns)],\n",
    "    remainder='passthrough'\n",
    ")\n",
    "preprocessed_data = preprocessor.fit_transform(df)\n",
    "\n",
    "new_df = pd.DataFrame(preprocessed_data, columns = df.columns.tolist())\n",
    "\n",
    "# the preprocessed classes could be 'less than 5', '5', '6', '7', 'larger than 7'. \n",
    "def label_map(label):\n",
    "    label = int(label)\n",
    "    if label < 5:\n",
    "        return 1\n",
    "    elif label == 5:\n",
    "        return 2\n",
    "    elif label == 6:\n",
    "        return 3\n",
    "    elif label == 7:\n",
    "        return 4\n",
    "    elif label > 7:\n",
    "        return 5\n",
    "\n",
    "new_df.to_csv('../data/preprocessed.csv', index=False)"
   ]
  }
 ],
 "metadata": {
  "kernelspec": {
   "display_name": "Python 3",
   "language": "python",
   "name": "python3"
  },
  "language_info": {
   "codemirror_mode": {
    "name": "ipython",
    "version": 3
   },
   "file_extension": ".py",
   "mimetype": "text/x-python",
   "name": "python",
   "nbconvert_exporter": "python",
   "pygments_lexer": "ipython3",
   "version": "3.7.3"
  }
 },
 "nbformat": 4,
 "nbformat_minor": 4
}
