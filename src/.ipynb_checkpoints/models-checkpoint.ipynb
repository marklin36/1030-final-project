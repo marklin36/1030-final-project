{
 "cells": [
  {
   "cell_type": "code",
   "execution_count": 33,
   "metadata": {},
   "outputs": [
    {
     "data": {
      "text/plain": [
       "3    2198\n",
       "2    1457\n",
       "4     880\n",
       "1     183\n",
       "5     180\n",
       "Name: quality, dtype: int64"
      ]
     },
     "execution_count": 33,
     "metadata": {},
     "output_type": "execute_result"
    }
   ],
   "source": [
    "import pandas as pd\n",
    "\n",
    "df = pd.read_csv('../data/winequality-white.csv', sep=\";\")\n",
    "\n",
    "# the preprocessed classes could be 'less than 5', '5', '6', '7', 'larger than 7'. \n",
    "def label_map(label):\n",
    "    label = int(label)\n",
    "    if label < 5:\n",
    "        return 1\n",
    "    elif label == 5:\n",
    "        return 2\n",
    "    elif label == 6:\n",
    "        return 3\n",
    "    elif label == 7:\n",
    "        return 4\n",
    "    elif label > 7:\n",
    "        return 5\n",
    "\n",
    "new_labels = [label_map(label) for label in df['quality'].values]\n",
    "df['quality'] = new_labels\n",
    "\n",
    "X = df.drop(['quality'], axis=1).values\n",
    "y = df['quality'].values\n",
    "\n",
    "df['quality'].value_counts()"
   ]
  },
  {
   "cell_type": "code",
   "execution_count": 23,
   "metadata": {},
   "outputs": [],
   "source": [
    "from sklearn.model_selection import StratifiedKFold\n",
    "from sklearn.linear_model import LogisticRegression\n",
    "import numpy as np\n",
    "from sklearn.model_selection import GridSearchCV\n",
    "from sklearn.pipeline import make_pipeline\n",
    "from sklearn.metrics import make_scorer\n",
    "from sklearn.model_selection import train_test_split\n",
    "from sklearn.preprocessing import StandardScaler\n",
    "from sklearn.linear_model import Ridge\n",
    "from sklearn.metrics import mean_squared_error\n",
    "import pandas as pd\n",
    "import matplotlib.pyplot as plt\n",
    "import matplotlib\n",
    "from statistics import mean, stdev\n",
    "\n",
    "\n",
    "def ML_pipeline_kfold_GridSearchCV(X,y,random_state,n_folds, param_grid, model, print_results = True):\n",
    "    \n",
    "    X_other, X_test, y_other, y_test = train_test_split(X, y, test_size=0.2, random_state = random_state, stratify=y)\n",
    "    kf = StratifiedKFold(n_splits=n_folds,shuffle=True,random_state=random_state)\n",
    "    \n",
    "    pipe = make_pipeline(StandardScaler(), model)\n",
    "    \n",
    "    grid = GridSearchCV(pipe, param_grid=param_grid, scoring = 'accuracy',cv=kf, return_train_score = True, iid=True)\n",
    "    grid.fit(X_other, y_other)\n",
    "    \n",
    "    test_score = grid.score(X_test, y_test)\n",
    "    \n",
    "    if print_results:\n",
    "        print(\"Results: \\n \")\n",
    "        print(f\"Best score: {grid.best_score_}\")\n",
    "        print(f\"Best params: {grid.best_params_}\")\n",
    "        print(f\"Test score: {test_score}\")\n",
    "        print(\"\\n \\n\")\n",
    "    \n",
    "    return grid, test_score\n",
    "\n",
    "    "
   ]
  },
  {
   "cell_type": "code",
   "execution_count": 35,
   "metadata": {},
   "outputs": [
    {
     "name": "stdout",
     "output_type": "stream",
     "text": [
      "Results: \n",
      " \n",
      "Best score: 0.5352220520673813\n",
      "Best params: {'logisticregression__C': 1.9306977288832508}\n",
      "Test score: 0.5428571428571428\n",
      "\n",
      " \n",
      "\n",
      "done\n"
     ]
    }
   ],
   "source": [
    "# Logistic regression L1\n",
    "\n",
    "C_range = [1/alpha for alpha in np.logspace(-2,4,num=8)]\n",
    "param_grid = {'logisticregression__C': C_range}\n",
    "model = LogisticRegression(penalty = 'l1', solver = 'saga', max_iter = 10000, multi_class = 'auto')\n",
    "\n",
    "ML_pipeline_kfold_GridSearchCV(X, y, 3, 5, param_grid, model)\n",
    "print(\"done\")"
   ]
  },
  {
   "cell_type": "code",
   "execution_count": 40,
   "metadata": {},
   "outputs": [
    {
     "name": "stdout",
     "output_type": "stream",
     "text": [
      "Results: \n",
      " \n",
      "Best score: 0.535732516590097\n",
      "Best params: {'logisticregression__C': 0.1, 'logisticregression__l1_ratio': 0.25}\n",
      "Test score: 0.5448979591836735\n",
      "\n",
      " \n",
      "\n",
      "done\n"
     ]
    }
   ],
   "source": [
    "# Logistic regression elastic net\n",
    "\n",
    "l1_ratio_range = np.linspace(0, 1, num=5)\n",
    "C_range = [1/alpha for alpha in np.logspace(-2,4,num=5)]\n",
    "param_grid = {\n",
    "    'logisticregression__C': C_range,\n",
    "    'logisticregression__l1_ratio': l1_ratio_range\n",
    "}\n",
    "model = LogisticRegression(penalty='elasticnet', solver='saga', max_iter=4000, multi_class='multinomial')\n",
    "ML_pipeline_kfold_GridSearchCV(X, y, 3, 5, param_grid, model)\n",
    "print(\"done\")"
   ]
  },
  {
   "cell_type": "code",
   "execution_count": 25,
   "metadata": {},
   "outputs": [
    {
     "name": "stdout",
     "output_type": "stream",
     "text": [
      "Results: \n",
      " \n",
      "Best score: 0.6620724859622257\n",
      "Best params: {'randomforestclassifier__max_depth': 12, 'randomforestclassifier__n_estimators': 300}\n",
      "Test score: 0.6428571428571429\n",
      "\n",
      " \n",
      "\n",
      "done\n"
     ]
    }
   ],
   "source": [
    "# Random forest\n",
    "\n",
    "from sklearn.ensemble import RandomForestClassifier\n",
    "\n",
    "n_estimators_range = [10, 50, 100, 200, 300, 400]\n",
    "max_depth_range = [8, 10, 12]\n",
    "param_grid = {\n",
    "    'randomforestclassifier__n_estimators': n_estimators_range,\n",
    "    'randomforestclassifier__max_depth': max_depth_range\n",
    "}\n",
    "model = RandomForestClassifier(random_state=1)\n",
    "\n",
    "ML_pipeline_kfold_GridSearchCV(X, y, 3, 5, param_grid, model)\n",
    "print(\"done\")"
   ]
  },
  {
   "cell_type": "code",
   "execution_count": 34,
   "metadata": {},
   "outputs": [
    {
     "name": "stdout",
     "output_type": "stream",
     "text": [
      "Results: \n",
      " \n",
      "Best score: 0.6322103113833588\n",
      "Best params: {'svc__C': 1, 'svc__gamma': 1.0}\n",
      "Test score: 0.639795918367347\n",
      "\n",
      " \n",
      "\n",
      "done\n"
     ]
    }
   ],
   "source": [
    "# SVM\n",
    "from sklearn.svm import SVC\n",
    "\n",
    "gamma_range = np.logspace(-4, 2, num=4)\n",
    "c_range = [0.1, 1, 5, 50]\n",
    "param_grid = {\n",
    "    'svc__gamma': gamma_range,\n",
    "    'svc__C': c_range\n",
    "}\n",
    "\n",
    "model = SVC()\n",
    "ML_pipeline_kfold_GridSearchCV(X, y, 3, 5, param_grid, model)\n",
    "print(\"done\")"
   ]
  },
  {
   "cell_type": "code",
   "execution_count": 31,
   "metadata": {},
   "outputs": [
    {
     "name": "stdout",
     "output_type": "stream",
     "text": [
      "Results: \n",
      " \n",
      "Best score: 0.6166411434405309\n",
      "Best params: {'kneighborsclassifier__n_neighbors': 1}\n",
      "Test score: 0.6173469387755102\n",
      "\n",
      " \n",
      "\n",
      "done\n"
     ]
    }
   ],
   "source": [
    "# KNN\n",
    "\n",
    "from sklearn.neighbors import KNeighborsClassifier\n",
    "\n",
    "neighbors_range = [1, 3, 5, 10, 30]\n",
    "param_grid = {\n",
    "    'kneighborsclassifier__n_neighbors': neighbors_range\n",
    "}\n",
    "model = KNeighborsClassifier()\n",
    "ML_pipeline_kfold_GridSearchCV(X, y, 3, 5, param_grid, model)\n",
    "print(\"done\")"
   ]
  },
  {
   "cell_type": "code",
   "execution_count": null,
   "metadata": {},
   "outputs": [],
   "source": []
  }
 ],
 "metadata": {
  "kernelspec": {
   "display_name": "Python 3",
   "language": "python",
   "name": "python3"
  },
  "language_info": {
   "codemirror_mode": {
    "name": "ipython",
    "version": 3
   },
   "file_extension": ".py",
   "mimetype": "text/x-python",
   "name": "python",
   "nbconvert_exporter": "python",
   "pygments_lexer": "ipython3",
   "version": "3.7.3"
  }
 },
 "nbformat": 4,
 "nbformat_minor": 4
}
